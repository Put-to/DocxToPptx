{
 "cells": [
  {
   "cell_type": "code",
   "execution_count": 26,
   "id": "80dcba74",
   "metadata": {},
   "outputs": [
    {
     "name": "stdout",
     "output_type": "stream",
     "text": [
      "1\n",
      "0 2389\n",
      "2\n",
      "2389 4560\n",
      "3\n"
     ]
    }
   ],
   "source": [
    "import win32com.client as win32\n",
    "\n",
    "# create a connection to Word and open the document\n",
    "word = win32.Dispatch(\"Word.Application\")\n",
    "doc = word.Documents.Open(r\"C:\\Users\\tanis\\OneDrive\\Desktop\\stderrofpred.docx\")\n",
    "\n",
    "# create a connection to PowerPoint and create a new presentation\n",
    "powerpoint = win32.Dispatch(\"PowerPoint.Application\")\n",
    "presentation = powerpoint.Presentations.Add(1)\n",
    "width_points = doc.PageSetup.PageWidth\n",
    "height_points = doc.PageSetup.PageHeight\n",
    "presentation.PageSetup.SlideHeight = height_points\n",
    "presentation.PageSetup.SlideWidth = width_points\n",
    "# loop through each page in the Word document\n",
    "#paras = doc.Content.ComputeStatistics(4)\n",
    "for i in range(1, doc.Content.ComputeStatistics(2)+1):\n",
    "    print(i)\n",
    "    start = doc.GoTo(1, 1, i).Start\n",
    "    end = doc.GoTo(1, 1, i+1 ).End\n",
    "    if start == end:\n",
    "        end = doc.Content.End\n",
    "    print(start, end)\n",
    "    doc.Range(start, end).Select()\n",
    "    # copy the contents to the clipboard\n",
    "    word.Selection.Copy()\n",
    "\n",
    "    # add a new slide to the presentation\n",
    "    slide = presentation.Slides.Add(i, 12)\n",
    "\n",
    "    # paste the contents of the clipboard onto the slide\n",
    "    slide.Shapes.PasteSpecial(DataType=2)\n",
    "        \n",
    "        \n",
    "presentation.SaveAs(r\"C:\\Users\\tanis\\OneDrive\\Desktop\\stderrofpred.pptx\")\n",
    "\n",
    "# close the Word document and PowerPoint presentation\n",
    "doc.Close()\n",
    "presentation.Close()\n",
    "word.Quit()\n",
    "powerpoint.Quit()\n",
    "print(3)"
   ]
  },
  {
   "cell_type": "code",
   "execution_count": null,
   "id": "4f243b3a",
   "metadata": {},
   "outputs": [],
   "source": []
  }
 ],
 "metadata": {
  "kernelspec": {
   "display_name": "Python 3",
   "language": "python",
   "name": "python3"
  },
  "language_info": {
   "codemirror_mode": {
    "name": "ipython",
    "version": 3
   },
   "file_extension": ".py",
   "mimetype": "text/x-python",
   "name": "python",
   "nbconvert_exporter": "python",
   "pygments_lexer": "ipython3",
   "version": "3.9.2"
  }
 },
 "nbformat": 4,
 "nbformat_minor": 5
}
